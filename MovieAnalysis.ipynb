{
 "cells": [
  {
   "cell_type": "markdown",
   "metadata": {},
   "source": [
    "![](images/image2.jpg)"
   ]
  },
  {
   "cell_type": "markdown",
   "metadata": {},
   "source": [
    "# Movie Analysis Project\n",
    "\n",
    "**Author:** Kai Uechi\n",
    "***"
   ]
  },
  {
   "cell_type": "markdown",
   "metadata": {},
   "source": [
    "## Overview\n",
    "\n",
    "This project is an analysis of movie data to find what types of movies are most profitable. The analysis shows that a film's release month, runtime, and genre correlate to its return on investment. Using this analysis, Microsoft's movie studio can focus on creating animated adventure films between 130-140 minutes long to release in either January or July. These films are likely to be more profitable."
   ]
  },
  {
   "cell_type": "markdown",
   "metadata": {},
   "source": [
    "![](images/image3.jpg)"
   ]
  },
  {
   "cell_type": "markdown",
   "metadata": {},
   "source": [
    "## Business Problem\n",
    "\n",
    "\n",
    "Microsoft's new movie studio needs to decide on what type of films to create. By analyzing what films are currently performing well, the studio can focus its resources into films that are likely to have the highest return. Using movie data from several sources, I examine how genre, runtime, and time of release affects a film's return on investment."
   ]
  },
  {
   "cell_type": "markdown",
   "metadata": {},
   "source": [
    "## Data Understanding\n",
    "\n",
    "This project uses data from several sources: IMDB (supplying runtime and genre), Box Office Mojo (supplying financial data), and The Numbers (supplying additional financial data, release date, and production budget). Data from The Numbers is particularly useful, as the production budget information allows for a films return on investment to be determined."
   ]
  },
  {
   "cell_type": "code",
   "execution_count": 1,
   "metadata": {},
   "outputs": [],
   "source": [
    "# Import standard packages\n",
    "import pandas as pd\n",
    "import numpy as np\n",
    "import matplotlib.pyplot as plt\n",
    "import seaborn as sns\n",
    "from datetime import datetime\n",
    "\n",
    "%matplotlib inline"
   ]
  },
  {
   "cell_type": "code",
   "execution_count": 2,
   "metadata": {},
   "outputs": [],
   "source": [
    "# Here you run your code to explore the data\n",
    "imdb_basic = pd.read_csv('data/title.basics.csv')\n",
    "imdb_ratings = pd.read_csv('data/title.ratings.csv')\n",
    "bom_gross = pd.read_csv('data/bom.movie_gross.csv')\n",
    "tn_budget = pd.read_csv('data/tn.movie_budgets.csv')"
   ]
  },
  {
   "cell_type": "markdown",
   "metadata": {},
   "source": [
    "### \"IMDB\" data\n",
    "Data from IMDB is used to determine a film's genre and runtime."
   ]
  },
  {
   "cell_type": "code",
   "execution_count": 3,
   "metadata": {
    "scrolled": true
   },
   "outputs": [
    {
     "data": {
      "text/html": [
       "<div>\n",
       "<style scoped>\n",
       "    .dataframe tbody tr th:only-of-type {\n",
       "        vertical-align: middle;\n",
       "    }\n",
       "\n",
       "    .dataframe tbody tr th {\n",
       "        vertical-align: top;\n",
       "    }\n",
       "\n",
       "    .dataframe thead th {\n",
       "        text-align: right;\n",
       "    }\n",
       "</style>\n",
       "<table border=\"1\" class=\"dataframe\">\n",
       "  <thead>\n",
       "    <tr style=\"text-align: right;\">\n",
       "      <th></th>\n",
       "      <th>tconst</th>\n",
       "      <th>primary_title</th>\n",
       "      <th>original_title</th>\n",
       "      <th>start_year</th>\n",
       "      <th>runtime_minutes</th>\n",
       "      <th>genres</th>\n",
       "    </tr>\n",
       "  </thead>\n",
       "  <tbody>\n",
       "    <tr>\n",
       "      <th>0</th>\n",
       "      <td>tt0063540</td>\n",
       "      <td>Sunghursh</td>\n",
       "      <td>Sunghursh</td>\n",
       "      <td>2013</td>\n",
       "      <td>175.0</td>\n",
       "      <td>Action,Crime,Drama</td>\n",
       "    </tr>\n",
       "    <tr>\n",
       "      <th>1</th>\n",
       "      <td>tt0066787</td>\n",
       "      <td>One Day Before the Rainy Season</td>\n",
       "      <td>Ashad Ka Ek Din</td>\n",
       "      <td>2019</td>\n",
       "      <td>114.0</td>\n",
       "      <td>Biography,Drama</td>\n",
       "    </tr>\n",
       "    <tr>\n",
       "      <th>2</th>\n",
       "      <td>tt0069049</td>\n",
       "      <td>The Other Side of the Wind</td>\n",
       "      <td>The Other Side of the Wind</td>\n",
       "      <td>2018</td>\n",
       "      <td>122.0</td>\n",
       "      <td>Drama</td>\n",
       "    </tr>\n",
       "  </tbody>\n",
       "</table>\n",
       "</div>"
      ],
      "text/plain": [
       "      tconst                    primary_title              original_title  \\\n",
       "0  tt0063540                        Sunghursh                   Sunghursh   \n",
       "1  tt0066787  One Day Before the Rainy Season             Ashad Ka Ek Din   \n",
       "2  tt0069049       The Other Side of the Wind  The Other Side of the Wind   \n",
       "\n",
       "   start_year  runtime_minutes              genres  \n",
       "0        2013            175.0  Action,Crime,Drama  \n",
       "1        2019            114.0     Biography,Drama  \n",
       "2        2018            122.0               Drama  "
      ]
     },
     "execution_count": 3,
     "metadata": {},
     "output_type": "execute_result"
    }
   ],
   "source": [
    "imdb_basic.head(3)"
   ]
  },
  {
   "cell_type": "markdown",
   "metadata": {},
   "source": [
    "### \"Box Office Mojo\" data\n",
    "Data from Box Office Mojo is used for information regarding a film's financial performance."
   ]
  },
  {
   "cell_type": "code",
   "execution_count": 4,
   "metadata": {},
   "outputs": [
    {
     "data": {
      "text/html": [
       "<div>\n",
       "<style scoped>\n",
       "    .dataframe tbody tr th:only-of-type {\n",
       "        vertical-align: middle;\n",
       "    }\n",
       "\n",
       "    .dataframe tbody tr th {\n",
       "        vertical-align: top;\n",
       "    }\n",
       "\n",
       "    .dataframe thead th {\n",
       "        text-align: right;\n",
       "    }\n",
       "</style>\n",
       "<table border=\"1\" class=\"dataframe\">\n",
       "  <thead>\n",
       "    <tr style=\"text-align: right;\">\n",
       "      <th></th>\n",
       "      <th>title</th>\n",
       "      <th>studio</th>\n",
       "      <th>domestic_gross</th>\n",
       "      <th>foreign_gross</th>\n",
       "      <th>year</th>\n",
       "    </tr>\n",
       "  </thead>\n",
       "  <tbody>\n",
       "    <tr>\n",
       "      <th>0</th>\n",
       "      <td>Toy Story 3</td>\n",
       "      <td>BV</td>\n",
       "      <td>415000000.0</td>\n",
       "      <td>652000000</td>\n",
       "      <td>2010</td>\n",
       "    </tr>\n",
       "    <tr>\n",
       "      <th>1</th>\n",
       "      <td>Alice in Wonderland (2010)</td>\n",
       "      <td>BV</td>\n",
       "      <td>334200000.0</td>\n",
       "      <td>691300000</td>\n",
       "      <td>2010</td>\n",
       "    </tr>\n",
       "    <tr>\n",
       "      <th>2</th>\n",
       "      <td>Harry Potter and the Deathly Hallows Part 1</td>\n",
       "      <td>WB</td>\n",
       "      <td>296000000.0</td>\n",
       "      <td>664300000</td>\n",
       "      <td>2010</td>\n",
       "    </tr>\n",
       "  </tbody>\n",
       "</table>\n",
       "</div>"
      ],
      "text/plain": [
       "                                         title studio  domestic_gross  \\\n",
       "0                                  Toy Story 3     BV     415000000.0   \n",
       "1                   Alice in Wonderland (2010)     BV     334200000.0   \n",
       "2  Harry Potter and the Deathly Hallows Part 1     WB     296000000.0   \n",
       "\n",
       "  foreign_gross  year  \n",
       "0     652000000  2010  \n",
       "1     691300000  2010  \n",
       "2     664300000  2010  "
      ]
     },
     "execution_count": 4,
     "metadata": {},
     "output_type": "execute_result"
    }
   ],
   "source": [
    "bom_gross.head(3)"
   ]
  },
  {
   "cell_type": "markdown",
   "metadata": {},
   "source": [
    "### \"The Numbers\" data\n",
    "Data from The Numbers is used to determine a film's production budget."
   ]
  },
  {
   "cell_type": "code",
   "execution_count": 5,
   "metadata": {},
   "outputs": [
    {
     "data": {
      "text/html": [
       "<div>\n",
       "<style scoped>\n",
       "    .dataframe tbody tr th:only-of-type {\n",
       "        vertical-align: middle;\n",
       "    }\n",
       "\n",
       "    .dataframe tbody tr th {\n",
       "        vertical-align: top;\n",
       "    }\n",
       "\n",
       "    .dataframe thead th {\n",
       "        text-align: right;\n",
       "    }\n",
       "</style>\n",
       "<table border=\"1\" class=\"dataframe\">\n",
       "  <thead>\n",
       "    <tr style=\"text-align: right;\">\n",
       "      <th></th>\n",
       "      <th>id</th>\n",
       "      <th>release_date</th>\n",
       "      <th>movie</th>\n",
       "      <th>production_budget</th>\n",
       "      <th>domestic_gross</th>\n",
       "      <th>worldwide_gross</th>\n",
       "    </tr>\n",
       "  </thead>\n",
       "  <tbody>\n",
       "    <tr>\n",
       "      <th>0</th>\n",
       "      <td>1</td>\n",
       "      <td>Dec 18, 2009</td>\n",
       "      <td>Avatar</td>\n",
       "      <td>$425,000,000</td>\n",
       "      <td>$760,507,625</td>\n",
       "      <td>$2,776,345,279</td>\n",
       "    </tr>\n",
       "    <tr>\n",
       "      <th>1</th>\n",
       "      <td>2</td>\n",
       "      <td>May 20, 2011</td>\n",
       "      <td>Pirates of the Caribbean: On Stranger Tides</td>\n",
       "      <td>$410,600,000</td>\n",
       "      <td>$241,063,875</td>\n",
       "      <td>$1,045,663,875</td>\n",
       "    </tr>\n",
       "    <tr>\n",
       "      <th>2</th>\n",
       "      <td>3</td>\n",
       "      <td>Jun 7, 2019</td>\n",
       "      <td>Dark Phoenix</td>\n",
       "      <td>$350,000,000</td>\n",
       "      <td>$42,762,350</td>\n",
       "      <td>$149,762,350</td>\n",
       "    </tr>\n",
       "  </tbody>\n",
       "</table>\n",
       "</div>"
      ],
      "text/plain": [
       "   id  release_date                                        movie  \\\n",
       "0   1  Dec 18, 2009                                       Avatar   \n",
       "1   2  May 20, 2011  Pirates of the Caribbean: On Stranger Tides   \n",
       "2   3   Jun 7, 2019                                 Dark Phoenix   \n",
       "\n",
       "  production_budget domestic_gross worldwide_gross  \n",
       "0      $425,000,000   $760,507,625  $2,776,345,279  \n",
       "1      $410,600,000   $241,063,875  $1,045,663,875  \n",
       "2      $350,000,000    $42,762,350    $149,762,350  "
      ]
     },
     "execution_count": 5,
     "metadata": {},
     "output_type": "execute_result"
    }
   ],
   "source": [
    "tn_budget.head(3)"
   ]
  },
  {
   "cell_type": "markdown",
   "metadata": {},
   "source": [
    "## Data Preparation\n",
    "\n",
    "\n",
    "Data preparation steps are as follows:\n",
    "* Create a new column using the film title and start year. Then, join the tables on that column.\n",
    "* Since movie genre and financial performance are critical to this analysis, drop rows missing genre or financial data.\n",
    "* Clean domestic & foreign gross data and create a total_gross column.\n",
    "* Remove any duplicate movies\n",
    "* Create a new column to capture return on investment (roi)\n",
    "* Expand genres column to columns containing boolean values for each genre category\n",
    "* To ensure results are not skewed, drop outliers based on financial data.\n",
    "* Create new column for month of release\n"
   ]
  },
  {
   "cell_type": "markdown",
   "metadata": {},
   "source": [
    "**Cleaning**: Create title_year column and join tables"
   ]
  },
  {
   "cell_type": "code",
   "execution_count": 6,
   "metadata": {},
   "outputs": [],
   "source": [
    "\n",
    "df = imdb_basic\n",
    "#start with a clean movie title\n",
    "df.loc[:, 'title_clean'] = (df['primary_title'].str.strip().str.lower())\n",
    "bom_gross.loc[:, 'title_clean'] = (bom_gross['title'].str.strip().str.lower())\n",
    "tn_budget.loc[:, 'title_clean'] = (tn_budget['movie'].str.strip().str.lower())\n",
    "\n",
    "#then add release year\n",
    "\n",
    "#have to clean tn release date first\n",
    "\n",
    "def cleanDate(dateStr):\n",
    "    date = datetime.strptime(dateStr, '%b %d, %Y')\n",
    "    return str(date.year)\n",
    "\n",
    "\n",
    "tn_budget.loc[:, 'year_clean'] = tn_budget['release_date'].map(cleanDate)\n",
    "\n",
    "#create a column to join on\n",
    "\n",
    "df.loc[:, 'title_year'] = (df['title_clean'] + df['start_year'].astype(str))\n",
    "bom_gross.loc[:, 'title_year'] = (bom_gross['title_clean'] + bom_gross['year'].astype(str))\n",
    "tn_budget.loc[:, 'title_year'] = (tn_budget['title_clean'] + tn_budget['year_clean'].astype(str))\n",
    "\n",
    "#set it as the index\n",
    "df.set_index('title_year', inplace=True)\n",
    "bom_gross.set_index('title_year', inplace=True)\n",
    "tn_budget.set_index('title_year', inplace=True)"
   ]
  },
  {
   "cell_type": "code",
   "execution_count": 7,
   "metadata": {},
   "outputs": [],
   "source": [
    "#join tables\n",
    "df = df.join(bom_gross, how='left', rsuffix='_bom')\n",
    "df = df.join(tn_budget, how='left', rsuffix='_tn')\n"
   ]
  },
  {
   "cell_type": "markdown",
   "metadata": {},
   "source": [
    "**Cleaning**: Drop rows missing critical data"
   ]
  },
  {
   "cell_type": "code",
   "execution_count": 8,
   "metadata": {},
   "outputs": [],
   "source": [
    "#drop rows missing genre data\n",
    "df.dropna(subset = ['genres'], inplace=True)\n",
    "\n",
    "#drop rows missing financial data\n",
    "df.dropna(subset=['domestic_gross_tn', 'domestic_gross'], how='all', inplace=True)\n",
    "to_drop = df.loc[df['worldwide_gross'].isna() & (~df['domestic_gross'].isnull() & df['foreign_gross'].isnull())].index\n",
    "df.drop(to_drop, inplace=True)\n"
   ]
  },
  {
   "cell_type": "markdown",
   "metadata": {},
   "source": [
    "**Feature Engineering**: Create unified total_gross column"
   ]
  },
  {
   "cell_type": "code",
   "execution_count": 9,
   "metadata": {},
   "outputs": [],
   "source": [
    "#clean gross data and create total_gross column\n",
    "\n",
    "df.reset_index(inplace = True)\n",
    "\n",
    "def cleanGross(gross):\n",
    "    gross = str(gross)\n",
    "    gross = gross.replace('$', '').replace(',', '')\n",
    "    return float(gross)\n",
    "\n",
    "#use tn table's worldwide_gross over bom's data where available\n",
    "df.loc[~df['worldwide_gross'].isnull(), 'total_gross'] = df['worldwide_gross'].map(cleanGross)\n",
    "df['domestic_gross'] = df['domestic_gross'].map(cleanGross)\n",
    "df['foreign_gross'] = df['foreign_gross'].map(cleanGross)\n",
    "df.loc[df['total_gross'].isnull(), 'total_gross'] = df['domestic_gross'] + df['foreign_gross']"
   ]
  },
  {
   "cell_type": "markdown",
   "metadata": {},
   "source": [
    "**Cleaning**: Remove duplicate movies"
   ]
  },
  {
   "cell_type": "code",
   "execution_count": 10,
   "metadata": {},
   "outputs": [
    {
     "data": {
      "text/plain": [
       "0"
      ]
     },
     "execution_count": 10,
     "metadata": {},
     "output_type": "execute_result"
    }
   ],
   "source": [
    "#remove duplicates using title_year column\n",
    "df = df[~df[['title_year']].duplicated(keep=False)]\n",
    "df['title_year'].duplicated().sum()"
   ]
  },
  {
   "cell_type": "markdown",
   "metadata": {},
   "source": [
    "**Feature Engineering**: Create return on investment (roi) column"
   ]
  },
  {
   "cell_type": "code",
   "execution_count": 11,
   "metadata": {},
   "outputs": [],
   "source": [
    "#create new column, return on investment (roi)\n",
    "\n",
    "#need to clean this one, too\n",
    "df['production_budget'] = df['production_budget'].map(cleanGross)\n",
    "\n",
    "df.loc[~df['production_budget'].isnull(), 'roi'] = df['total_gross'] - df['production_budget']"
   ]
  },
  {
   "cell_type": "markdown",
   "metadata": {},
   "source": [
    "**Cleaning**: Expand genres column to multiple boolean columns"
   ]
  },
  {
   "cell_type": "code",
   "execution_count": 12,
   "metadata": {
    "scrolled": true
   },
   "outputs": [
    {
     "name": "stdout",
     "output_type": "stream",
     "text": [
      "action\n",
      "music\n",
      "biography\n",
      "war\n",
      "comedy\n",
      "fantasy\n",
      "romance\n",
      "animation\n",
      "sci-fi\n",
      "history\n",
      "sport\n",
      "crime\n",
      "adventure\n",
      "drama\n",
      "mystery\n",
      "thriller\n",
      "family\n",
      "documentary\n",
      "western\n",
      "musical\n",
      "horror\n"
     ]
    }
   ],
   "source": [
    "#get distinct genre categories\n",
    "distinct_genres_raw = df['genres'].unique()\n",
    "\n",
    "distinct_genres_clean = set()\n",
    "\n",
    "for elem in distinct_genres_raw:\n",
    "    elem = str(elem)\n",
    "    elem = elem.strip()\n",
    "    elem = elem.lower()\n",
    "    genres = elem.split(',')\n",
    "    for category in genres:\n",
    "        distinct_genres_clean.add(category)\n",
    "\n",
    "#add a column for each category containing a boolean value\n",
    "for category in distinct_genres_clean:\n",
    "    print(category)\n",
    "    df.loc[(df['genres'].str.strip().str.lower().str.contains(category)), category] = True\n",
    "    \n",
    "#replace NaNs in new columns with false\n",
    "for category in distinct_genres_clean:\n",
    "    df[category].fillna(False, inplace=True)\n",
    "    \n"
   ]
  },
  {
   "cell_type": "markdown",
   "metadata": {},
   "source": [
    "**Cleaning**: Drop financial outliers"
   ]
  },
  {
   "cell_type": "code",
   "execution_count": 13,
   "metadata": {},
   "outputs": [],
   "source": [
    "#drop outliers on roi and total_gross\n",
    "\n",
    "def getOutlierRange(col):\n",
    "    q1 = col.quantile(0.25)\n",
    "    q3 = col.quantile(0.75)\n",
    "    iqr = q3 - q1\n",
    "    lower_bound = q1 - (1.5*iqr)\n",
    "    upper_bound = q3 + (1.5*iqr)\n",
    "    \n",
    "    return (lower_bound, upper_bound)\n",
    "\n",
    "gross_out = getOutlierRange(df['total_gross'])\n",
    "df_dropOutliers = df[~( (df['total_gross'] < gross_out[0]) | (df['total_gross'] > gross_out[1]) )]\n",
    "\n",
    "roi_out = getOutlierRange(df_dropOutliers['roi'])\n",
    "df_dropOutliers = df_dropOutliers[~( (df_dropOutliers['roi'] < roi_out[0]) | (df_dropOutliers['roi'] > roi_out[1]) )]\n",
    "\n",
    "#df_dropOutliers"
   ]
  },
  {
   "cell_type": "markdown",
   "metadata": {},
   "source": [
    "**Feature Engineering**: Create release_month column"
   ]
  },
  {
   "cell_type": "code",
   "execution_count": 14,
   "metadata": {},
   "outputs": [
    {
     "name": "stderr",
     "output_type": "stream",
     "text": [
      "C:\\Users\\Floobledorf\\anaconda3\\envs\\learn-env\\lib\\site-packages\\pandas\\core\\indexing.py:1596: SettingWithCopyWarning: \n",
      "A value is trying to be set on a copy of a slice from a DataFrame.\n",
      "Try using .loc[row_indexer,col_indexer] = value instead\n",
      "\n",
      "See the caveats in the documentation: https://pandas.pydata.org/pandas-docs/stable/user_guide/indexing.html#returning-a-view-versus-a-copy\n",
      "  self.obj[key] = _infer_fill_value(value)\n",
      "C:\\Users\\Floobledorf\\anaconda3\\envs\\learn-env\\lib\\site-packages\\pandas\\core\\indexing.py:1745: SettingWithCopyWarning: \n",
      "A value is trying to be set on a copy of a slice from a DataFrame.\n",
      "Try using .loc[row_indexer,col_indexer] = value instead\n",
      "\n",
      "See the caveats in the documentation: https://pandas.pydata.org/pandas-docs/stable/user_guide/indexing.html#returning-a-view-versus-a-copy\n",
      "  isetter(ilocs[0], value)\n",
      "<ipython-input-14-a20cd2e86c9c>:13: SettingWithCopyWarning: \n",
      "A value is trying to be set on a copy of a slice from a DataFrame.\n",
      "Try using .loc[row_indexer,col_indexer] = value instead\n",
      "\n",
      "See the caveats in the documentation: https://pandas.pydata.org/pandas-docs/stable/user_guide/indexing.html#returning-a-view-versus-a-copy\n",
      "  df_month['release_month'] = df_month['release_month'].map(map_month)\n"
     ]
    }
   ],
   "source": [
    "#create column for release month\n",
    "def cleanMonth(dateStr):\n",
    "    \n",
    "    date = datetime.strptime(dateStr, '%b %d, %Y')\n",
    "    return str(date.month)\n",
    "\n",
    "#assign to new frame \n",
    "df_month = df_dropOutliers[~df_dropOutliers['release_date'].isna()]\n",
    "df_month.loc[:, 'release_month'] = df_month['release_date'].map(cleanMonth)\n",
    "\n",
    "map_month = {'1': 'Jan', '2': 'Feb', '3': 'Mar', '4': 'Apr', '5': 'May',\n",
    "                         '6': 'Jun', '7': 'Jul', '8': 'Aug', '9': 'Sep', '10': 'Oct', '11': 'Nov', '12': 'Dec'}\n",
    "df_month['release_month'] = df_month['release_month'].map(map_month)\n",
    "\n"
   ]
  },
  {
   "cell_type": "markdown",
   "metadata": {},
   "source": [
    "## Data Analysis\n"
   ]
  },
  {
   "cell_type": "markdown",
   "metadata": {},
   "source": [
    "### Genre Vs Return on Investment\n",
    "\n",
    "Most genres have little correlation with a film's return on investment, but several categories stand out:\n",
    "* Adventure\n",
    "* Animation\n",
    "* Comedy\n",
    "* Drama"
   ]
  },
  {
   "cell_type": "code",
   "execution_count": 15,
   "metadata": {},
   "outputs": [
    {
     "data": {
      "text/plain": [
       "Text(114.0, 0.5, 'Genres')"
      ]
     },
     "execution_count": 15,
     "metadata": {},
     "output_type": "execute_result"
    },
    {
     "data": {
      "image/png": "[encoded data removed]",
      "text/plain": [
       "<Figure size 1080x576 with 2 Axes>"
      ]
     },
     "metadata": {
      "needs_background": "light"
     },
     "output_type": "display_data"
    }
   ],
   "source": [
    "\n",
    "corr_col = ['thriller', 'music', 'documentary', 'adventure', 'romance', 'musical', 'animation', \n",
    "            'action', 'crime', 'sport', 'sci-fi', 'war', 'mystery', 'western', 'family', 'fantasy', \n",
    "            'horror', 'biography', 'history', 'comedy', 'drama', \n",
    "            'roi', 'total_gross']\n",
    "\n",
    "\n",
    "\n",
    "plt.figure(figsize = (15,8))\n",
    "df_corr = df_dropOutliers[corr_col].corr()[['roi']]\n",
    "df_corr.dropna(inplace=True)\n",
    "df_corr.drop(['roi', 'total_gross'], inplace=True)\n",
    "ax = sns.heatmap(df_corr, center=0, robust=True, annot=True)\n",
    "ax.set_title('Genre Vs Return on Investment', fontsize=20)\n",
    "ax.set_xlabel('Return on Investment', fontsize=14)\n",
    "ax.set_ylabel('Genres', fontsize=14)"
   ]
  },
  {
   "cell_type": "code",
   "execution_count": 16,
   "metadata": {},
   "outputs": [
    {
     "ename": "NameError",
     "evalue": "name 'todrop' is not defined",
     "output_type": "error",
     "traceback": [
      "\u001b[1;31m---------------------------------------------------------------------------\u001b[0m",
      "\u001b[1;31mNameError\u001b[0m                                 Traceback (most recent call last)",
      "\u001b[1;32m<ipython-input-16-c3463ae6eab1>\u001b[0m in \u001b[0;36m<module>\u001b[1;34m\u001b[0m\n\u001b[1;32m----> 1\u001b[1;33m \u001b[0mdf_corr\u001b[0m\u001b[1;33m.\u001b[0m\u001b[0mdrop\u001b[0m\u001b[1;33m(\u001b[0m\u001b[0mtodrop\u001b[0m\u001b[1;33m,\u001b[0m \u001b[0minplace\u001b[0m\u001b[1;33m=\u001b[0m\u001b[1;32mTrue\u001b[0m\u001b[1;33m,\u001b[0m \u001b[0maxis\u001b[0m\u001b[1;33m=\u001b[0m\u001b[1;36m0\u001b[0m\u001b[1;33m)\u001b[0m\u001b[1;33m\u001b[0m\u001b[1;33m\u001b[0m\u001b[0m\n\u001b[0m\u001b[0;32m      2\u001b[0m \u001b[0mdf_corr\u001b[0m\u001b[1;33m.\u001b[0m\u001b[0mreset_index\u001b[0m\u001b[1;33m(\u001b[0m\u001b[0minplace\u001b[0m\u001b[1;33m=\u001b[0m\u001b[1;32mTrue\u001b[0m\u001b[1;33m)\u001b[0m\u001b[1;33m\u001b[0m\u001b[1;33m\u001b[0m\u001b[0m\n\u001b[0;32m      3\u001b[0m \u001b[1;33m\u001b[0m\u001b[0m\n\u001b[0;32m      4\u001b[0m todrop = ['thriller', 'music', 'romance', 'musical', 'crime', 'sport', 'sci-fi', 'war', 'mystery', 'western', 'family',\n\u001b[0;32m      5\u001b[0m           'fantasy', 'horror', 'biography', 'history']\n",
      "\u001b[1;31mNameError\u001b[0m: name 'todrop' is not defined"
     ]
    }
   ],
   "source": [
    "df_corr.drop(todrop, inplace=True, axis=0)\n",
    "df_corr.reset_index(inplace=True)\n",
    "\n",
    "todrop = ['thriller', 'music', 'romance', 'musical', 'crime', 'sport', 'sci-fi', 'war', 'mystery', 'western', 'family',\n",
    "          'fantasy', 'horror', 'biography', 'history']\n",
    "corr_order = ['adventure', 'animation', 'comedy', 'action', 'documentary', 'drama']\n",
    "\n",
    "plt.figure(figsize = (15,8))\n",
    "ax = sns.barplot(x='index', y='roi', data=df_corr, alpha=1, edgecolor='k', ci=None, order=corr_order)\n",
    "ax.set_title('Genre Vs Return on Investment', fontsize=20)\n",
    "ax.set_xlabel('Genre', fontsize=14)\n",
    "ax.set_ylabel('Correlation to Return on Investment', fontsize=14)\n",
    "ax.ticklabel_format(style='plain', axis='y')"
   ]
  },
  {
   "cell_type": "code",
   "execution_count": null,
   "metadata": {
    "scrolled": true
   },
   "outputs": [],
   "source": [
    "df_dropOutliers.corr()[['roi', 'total_gross']].sort_values('roi', ascending=False)"
   ]
  },
  {
   "cell_type": "markdown",
   "metadata": {},
   "source": [
    "### Runtime Vs Return on Investment\n",
    "\n",
    "Most movies last between 75 to 125 minutes, and longer movies tend to have better returns.\n",
    "However, this trend stops past the 140 minute mark."
   ]
  },
  {
   "cell_type": "code",
   "execution_count": null,
   "metadata": {},
   "outputs": [],
   "source": [
    "#create bins\n",
    "bins = [1, 70, 80, 90, 100, 110, 120, 130, 140, 150, 180]\n",
    "\n",
    "#cut dataframe based on bins\n",
    "df_runtime = df_dropOutliers[~df_dropOutliers['runtime_minutes'].isna()]\n",
    "df_runtime['runbins'] = pd.cut(df_dropOutliers['runtime_minutes'], bins).astype(str)\n",
    "\n",
    "#map bins to readable strings\n",
    "df_runtime = df_runtime[~(df_runtime['runbins'] == 'nan')]\n",
    "map_runtime = {'(1.0, 70.0]': '1-70 Minutes', '(70.0, 80.0]': '70-80 Minutes', '(150.0, 180.0]': '150-180 Minutes', \n",
    "             '(140.0, 150.0]': '140-150 Minutes', '(130.0, 140.0]': '130-140 Minutes', '(120.0, 130.0]': '120-130 Minutes',\n",
    "             '(80.0, 90.0]': '80-90 Minutes', '(110.0, 120.0]': '110-120 Minutes', '(100.0, 110.0]': '100-110 Minutes',\n",
    "             '(90.0, 100.0]': '90-100 Minutes'}\n",
    "df_runtime['runbins'] = df_runtime['runbins'].map(map_runtime)\n",
    "\n",
    "#plot\n",
    "plt.figure(figsize = (16,8))\n",
    "runtime_order = ['1-70 Minutes', '70-80 Minutes', '80-90 Minutes', '90-100 Minutes', '100-110 Minutes', '110-120 Minutes',\n",
    "                 '120-130 Minutes', '130-140 Minutes', '140-150 Minutes', '150-180 Minutes']\n",
    "ax = sns.barplot(x='runbins', y='roi', data=df_runtime, alpha=1, edgecolor='k', ci=None, order=runtime_order)\n",
    "ax.set_title('Runtime Vs Return on Investment', fontsize=20)\n",
    "ax.set_xlabel('Runtime (minutes)', fontsize=14)\n",
    "ax.set_ylabel('Return on Investment', fontsize=14)\n",
    "ax.ticklabel_format(style='plain', axis='y')"
   ]
  },
  {
   "cell_type": "code",
   "execution_count": null,
   "metadata": {
    "scrolled": false
   },
   "outputs": [],
   "source": [
    "ax = sns.lmplot(x='runtime_minutes', y='roi', data=df_dropOutliers, order=2, height=7, aspect=2)"
   ]
  },
  {
   "cell_type": "markdown",
   "metadata": {},
   "source": [
    "### Release Month Vs Return on Investment\n",
    "\n",
    "Most movies tend to release near the end of the year, especially in October and December.\n",
    "However, the average return on investment is highest in January and July. Both months have significantly fewer releases."
   ]
  },
  {
   "cell_type": "code",
   "execution_count": null,
   "metadata": {},
   "outputs": [],
   "source": [
    "month_avgs = df_month[['roi', 'total_gross', 'release_month']].groupby('release_month').mean()\n",
    "\n",
    "\n",
    "month_order = ['Jan', 'Feb', 'Mar', 'Apr', 'May', 'Jun', 'Jul', 'Aug', 'Sep', 'Oct', 'Nov', 'Dec']\n",
    "plt.figure(figsize = (16,8))\n",
    "\n",
    "ax = sns.barplot(x='release_month', y='roi', data=df_month, ci=None, order=month_order)\n",
    "ax.set_title('Release Month Vs Return on Investment', fontsize=20)\n",
    "ax.set_xlabel('Release Month', fontsize=14)\n",
    "ax.set_ylabel('Return on Investment', fontsize=14)\n",
    "ax.ticklabel_format(style='plain', axis='y')"
   ]
  },
  {
   "cell_type": "code",
   "execution_count": null,
   "metadata": {},
   "outputs": [],
   "source": [
    "month_avgs.round(2)"
   ]
  },
  {
   "cell_type": "code",
   "execution_count": null,
   "metadata": {},
   "outputs": [],
   "source": [
    "df_month['release_month'].value_counts()"
   ]
  },
  {
   "cell_type": "markdown",
   "metadata": {},
   "source": [
    "## Conclusions\n",
    "\n",
    "Three main points can be concluded from this analysis:\n",
    "* **Adventure, Animation, and Comedy films should be prioritized.** Additionally, Drama and Documentary films should be avoided. Genres besides these have little impact on a film's return on investment.\n",
    "* **Films should aim to have a runtime of between 130-140 minutes.** A runtime longer than 140 minutes is likely to be a detriment.\n",
    "* **Films should prioritize releasing in January or July.** Films should also avoid releasing in June, September, October, or December. \n",
    "\n",
    "\n",
    "### Next Steps\n",
    "\n",
    "The following steps are likely to expand and improve upon this analysis:\n",
    "* **Gather more data, especially regarding a film's production budget.** This analysis was performed on a comparatively small set of movies due to a lack of data on production budget. More data will improve the accuracy of findings.\n",
    "* **Group results by year to predict trends.** By grouping the performance of specific genres or release months to each year, results will not be skewed by old trends. (For instance, a genre that was very popular several years ago, but is no longer profitable.)"
   ]
  },
  {
   "cell_type": "code",
   "execution_count": null,
   "metadata": {},
   "outputs": [],
   "source": []
  }
 ],
 "metadata": {
  "kernelspec": {
   "display_name": "Python 3",
   "language": "python",
   "name": "python3"
  },
  "language_info": {
   "codemirror_mode": {
    "name": "ipython",
    "version": 3
   },
   "file_extension": ".py",
   "mimetype": "text/x-python",
   "name": "python",
   "nbconvert_exporter": "python",
   "pygments_lexer": "ipython3",
   "version": "3.8.5"
  }
 },
 "nbformat": 4,
 "nbformat_minor": 4
}
